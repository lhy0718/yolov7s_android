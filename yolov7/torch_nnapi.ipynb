{
 "cells": [
  {
   "cell_type": "code",
   "execution_count": null,
   "metadata": {},
   "outputs": [],
   "source": [
    "import torch\n",
    "\n",
    "pytorch_model_path = 'yolov7-tiny.pt'\n",
    "model = torch.load(pytorch_model_path)['model']\n",
    "model.eval()\n",
    "print('load model')"
   ]
  },
  {
   "cell_type": "code",
   "execution_count": null,
   "metadata": {},
   "outputs": [],
   "source": [
    "input_tensor = torch.zeros((1,640,640,3)).half().to('cuda:0')\n",
    "input_tensor = input_tensor.contiguous(memory_format=torch.channels_last)\n",
    "input_tensor.nnapi_nhwc = True\n",
    "\n",
    "with torch.no_grad():\n",
    "    traced = torch.jit.trace(model, input_tensor)\n",
    "    nnapi_model = torch.backends._nnapi.prepare.convert_model_to_nnapi(traced, input_tensor)\n",
    "\n",
    "nnapi_model._save_for_lite_interpreter(pytorch_model_path.replace('.pt', '-nnapi.ptl'))"
   ]
  },
  {
   "cell_type": "code",
   "execution_count": null,
   "metadata": {},
   "outputs": [],
   "source": []
  }
 ],
 "metadata": {
  "kernelspec": {
   "display_name": "yolo7",
   "language": "python",
   "name": "python3"
  },
  "language_info": {
   "codemirror_mode": {
    "name": "ipython",
    "version": 3
   },
   "file_extension": ".py",
   "mimetype": "text/x-python",
   "name": "python",
   "nbconvert_exporter": "python",
   "pygments_lexer": "ipython3",
   "version": "3.10.9"
  },
  "orig_nbformat": 4
 },
 "nbformat": 4,
 "nbformat_minor": 2
}
